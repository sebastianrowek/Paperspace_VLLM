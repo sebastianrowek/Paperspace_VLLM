{
 "cells": [
  {
   "cell_type": "code",
   "execution_count": null,
   "id": "5c73da10-171d-44aa-aecc-5a19419df832",
   "metadata": {},
   "outputs": [],
   "source": []
  },
  {
   "cell_type": "code",
   "execution_count": null,
   "id": "35b74966-6937-4faa-9e7a-58d46e373cef",
   "metadata": {},
   "outputs": [],
   "source": [
    "from vllm import LLM, SamplingParams\n",
    "from transformers import AutoProcessor, AutoTokenizer\n",
    "from vllm.multimodal.utils import fetch_image"
   ]
  },
  {
   "cell_type": "code",
   "execution_count": null,
   "id": "21c29456-a2e7-4895-beba-ba579f7f366f",
   "metadata": {},
   "outputs": [],
   "source": [
    "# Qwen2-VL\n",
    "model_name = \"Qwen/Qwen2-VL-2B-Instruct\"\n",
    "image_url = \"https://modelscope.oss-cn-beijing.aliyuncs.com/resource/qwen.png\"\n",
    "imagE_path = \"\"\n",
    "\n",
    "sampling_params = SamplingParams(temperature=0.1, top_p=0.95)\n",
    "\n",
    "llm = LLM(\n",
    "    model=model_name,\n",
    ")\n",
    "\n",
    "\n",
    "image_placeholder = {\"type\": \"image\", \"image\": image_url}\n",
    "messages = [{\n",
    "    \"role\": \"system\",\n",
    "    \"content\": \"You are a helpful assistant.\"\n",
    "}, {\n",
    "    \"role\":\n",
    "    \"user\",\n",
    "    \"content\": [\n",
    "        image_placeholder,\n",
    "        {\n",
    "            \"type\": \"text\",\n",
    "            \"text\": \"What is the text in the illustrate?\"\n",
    "        },\n",
    "    ],\n",
    "}]\n",
    "\n",
    "processor = AutoProcessor.from_pretrained(model_name)\n",
    "\n",
    "prompt = processor.apply_chat_template(messages,\n",
    "                                       tokenize=False,\n",
    "                                       add_generation_prompt=True)\n",
    "\n",
    "image_data = fetch_image(image_url)\n",
    "\n",
    "output = llm.generate(\n",
    "    {\n",
    "        \"prompt\": prompt,\n",
    "        \"multi_modal_data\": {\n",
    "            \"image\": image_data\n",
    "        },\n",
    "    },\n",
    "    sampling_params=sampling_params)\n"
   ]
  },
  {
   "cell_type": "code",
   "execution_count": null,
   "id": "24b994b2-e50a-4845-ab2a-1f2d0df679c3",
   "metadata": {},
   "outputs": [],
   "source": []
  },
  {
   "cell_type": "code",
   "execution_count": null,
   "id": "5c3c0a7a-910e-495d-87ae-ec15db62e413",
   "metadata": {},
   "outputs": [],
   "source": []
  },
  {
   "cell_type": "code",
   "execution_count": null,
   "id": "2d53a2c7-844c-49a9-b223-30890e2c7cd0",
   "metadata": {},
   "outputs": [],
   "source": []
  },
  {
   "cell_type": "code",
   "execution_count": null,
   "id": "bf46898b-5bfa-477e-b8ff-029d21b1edd9",
   "metadata": {},
   "outputs": [],
   "source": []
  },
  {
   "cell_type": "code",
   "execution_count": null,
   "id": "dcabda37-fb02-4ee4-91bc-647357c7e244",
   "metadata": {},
   "outputs": [],
   "source": []
  },
  {
   "cell_type": "code",
   "execution_count": null,
   "id": "7a9f2088-f97e-4a97-bd31-ad41b3ea766b",
   "metadata": {},
   "outputs": [],
   "source": []
  },
  {
   "cell_type": "code",
   "execution_count": null,
   "id": "7458e3c5-328e-4f4f-bf8a-a73da75c7678",
   "metadata": {},
   "outputs": [],
   "source": []
  },
  {
   "cell_type": "code",
   "execution_count": null,
   "id": "f7717ada-5bb1-4749-ac3c-b48d63d96d54",
   "metadata": {},
   "outputs": [],
   "source": []
  },
  {
   "cell_type": "code",
   "execution_count": null,
   "id": "fffa2dec-800c-4c20-8dfd-13074c5080b9",
   "metadata": {},
   "outputs": [],
   "source": []
  },
  {
   "cell_type": "code",
   "execution_count": null,
   "id": "54d90d7b-9d25-4436-bd7e-a55e1a5d0a45",
   "metadata": {},
   "outputs": [],
   "source": []
  }
 ],
 "metadata": {
  "kernelspec": {
   "display_name": "Python 3 (ipykernel)",
   "language": "python",
   "name": "python3"
  },
  "language_info": {
   "codemirror_mode": {
    "name": "ipython",
    "version": 3
   },
   "file_extension": ".py",
   "mimetype": "text/x-python",
   "name": "python",
   "nbconvert_exporter": "python",
   "pygments_lexer": "ipython3",
   "version": "3.11.7"
  }
 },
 "nbformat": 4,
 "nbformat_minor": 5
}
